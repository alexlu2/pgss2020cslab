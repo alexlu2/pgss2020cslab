{
  "nbformat": 4,
  "nbformat_minor": 0,
  "metadata": {
    "colab": {
      "name": "ReadScript.ipynb",
      "provenance": [],
      "collapsed_sections": []
    },
    "kernelspec": {
      "name": "python3",
      "display_name": "Python 3"
    }
  },
  "cells": [
    {
      "cell_type": "markdown",
      "metadata": {
        "id": "q-HqSvOEU2pw",
        "colab_type": "text"
      },
      "source": [
        "In this script we:\n",
        "1. Connect Colab to our Google Drive\n",
        "2. Read a file from Github as a RAW file, into a Pandas data frame\n",
        "3. Summarize the Data above\n",
        "4. Read a file from Google Drive into a separate Pandas data frame"
      ]
    },
    {
      "cell_type": "markdown",
      "metadata": {
        "id": "FP_7Rr_5VMny",
        "colab_type": "text"
      },
      "source": [
        "# Connect Colab to Google Drive\n"
      ]
    },
    {
      "cell_type": "code",
      "metadata": {
        "id": "3tbCq-u0F_kp",
        "colab_type": "code",
        "colab": {
          "base_uri": "https://localhost:8080/",
          "height": 122
        },
        "outputId": "6085d9a6-a03f-425a-a1b7-757bbe6b9505"
      },
      "source": [
        "from google.colab import drive\n",
        "drive.mount('/content/drive')"
      ],
      "execution_count": 6,
      "outputs": [
        {
          "output_type": "stream",
          "text": [
            "Go to this URL in a browser: https://accounts.google.com/o/oauth2/auth?client_id=947318989803-6bn6qk8qdgf4n4g3pfee6491hc0brc4i.apps.googleusercontent.com&redirect_uri=urn%3aietf%3awg%3aoauth%3a2.0%3aoob&response_type=code&scope=email%20https%3a%2f%2fwww.googleapis.com%2fauth%2fdocs.test%20https%3a%2f%2fwww.googleapis.com%2fauth%2fdrive%20https%3a%2f%2fwww.googleapis.com%2fauth%2fdrive.photos.readonly%20https%3a%2f%2fwww.googleapis.com%2fauth%2fpeopleapi.readonly\n",
            "\n",
            "Enter your authorization code:\n",
            "··········\n",
            "Mounted at /content/drive\n"
          ],
          "name": "stdout"
        }
      ]
    },
    {
      "cell_type": "markdown",
      "metadata": {
        "id": "A5SvuFS6VT0H",
        "colab_type": "text"
      },
      "source": [
        "# Read a file from Github as a RAW file, into a Pandas data frame\n"
      ]
    },
    {
      "cell_type": "code",
      "metadata": {
        "id": "OiC5T5D8Vys9",
        "colab_type": "code",
        "colab": {}
      },
      "source": [
        "import pandas as pd\n",
        "ChicagoData = pd.read_csv('https://raw.githubusercontent.com/menonpg/covid19_Chicago/master/timeSeries_COVID19_Chicago.csv')"
      ],
      "execution_count": 2,
      "outputs": []
    },
    {
      "cell_type": "markdown",
      "metadata": {
        "id": "ZZnaTadiVY-f",
        "colab_type": "text"
      },
      "source": [
        "# Summarize the Data above"
      ]
    },
    {
      "cell_type": "code",
      "metadata": {
        "id": "c9Q50X1dV3Eh",
        "colab_type": "code",
        "colab": {
          "base_uri": "https://localhost:8080/",
          "height": 221
        },
        "outputId": "d039e1ca-fdb7-4e07-85b8-a2404dd712ff"
      },
      "source": [
        "print(\"Min values by column \\n\" + str(ChicagoData.aggregate( 'min' )) + '\\n\\n')\n",
        "print(\"Max values by column \\n\" + str(ChicagoData.aggregate( 'max' )))"
      ],
      "execution_count": 5,
      "outputs": [
        {
          "output_type": "stream",
          "text": [
            "Min values by column \n",
            "Cases            598\n",
            "Deaths             4\n",
            "Date      2020-03-24\n",
            "dtype: object\n",
            "\n",
            "\n",
            "Max values by column \n",
            "Cases          52813\n",
            "Deaths          2623\n",
            "Date      2020-07-02\n",
            "dtype: object\n"
          ],
          "name": "stdout"
        }
      ]
    },
    {
      "cell_type": "markdown",
      "metadata": {
        "id": "t45pnogwVd1K",
        "colab_type": "text"
      },
      "source": [
        "# Read a file from Google Drive into a separate Pandas data frame"
      ]
    },
    {
      "cell_type": "code",
      "metadata": {
        "id": "7CljKaXeWHpk",
        "colab_type": "code",
        "colab": {
          "base_uri": "https://localhost:8080/",
          "height": 419
        },
        "outputId": "93ddd376-59b9-4d09-ba27-d9e7c1b45c98"
      },
      "source": [
        "import pandas as pd\n",
        "ChicagoData_fromDrive = pd.read_csv('/content/drive/My Drive/DATA/timeSeries_COVID19_Chicago.csv.txt')\n",
        "ChicagoData_fromDrive"
      ],
      "execution_count": 10,
      "outputs": [
        {
          "output_type": "execute_result",
          "data": {
            "text/html": [
              "<div>\n",
              "<style scoped>\n",
              "    .dataframe tbody tr th:only-of-type {\n",
              "        vertical-align: middle;\n",
              "    }\n",
              "\n",
              "    .dataframe tbody tr th {\n",
              "        vertical-align: top;\n",
              "    }\n",
              "\n",
              "    .dataframe thead th {\n",
              "        text-align: right;\n",
              "    }\n",
              "</style>\n",
              "<table border=\"1\" class=\"dataframe\">\n",
              "  <thead>\n",
              "    <tr style=\"text-align: right;\">\n",
              "      <th></th>\n",
              "      <th>Cases</th>\n",
              "      <th>Deaths</th>\n",
              "      <th>Date</th>\n",
              "    </tr>\n",
              "  </thead>\n",
              "  <tbody>\n",
              "    <tr>\n",
              "      <th>0</th>\n",
              "      <td>598</td>\n",
              "      <td>4</td>\n",
              "      <td>2020-03-24</td>\n",
              "    </tr>\n",
              "    <tr>\n",
              "      <th>1</th>\n",
              "      <td>949</td>\n",
              "      <td>5</td>\n",
              "      <td>2020-03-25</td>\n",
              "    </tr>\n",
              "    <tr>\n",
              "      <th>2</th>\n",
              "      <td>1882</td>\n",
              "      <td>15</td>\n",
              "      <td>2020-03-28</td>\n",
              "    </tr>\n",
              "    <tr>\n",
              "      <th>3</th>\n",
              "      <td>1975</td>\n",
              "      <td>15</td>\n",
              "      <td>2020-03-29</td>\n",
              "    </tr>\n",
              "    <tr>\n",
              "      <th>4</th>\n",
              "      <td>2611</td>\n",
              "      <td>26</td>\n",
              "      <td>2020-03-31</td>\n",
              "    </tr>\n",
              "    <tr>\n",
              "      <th>...</th>\n",
              "      <td>...</td>\n",
              "      <td>...</td>\n",
              "      <td>...</td>\n",
              "    </tr>\n",
              "    <tr>\n",
              "      <th>89</th>\n",
              "      <td>51512</td>\n",
              "      <td>2573</td>\n",
              "      <td>2020-06-28</td>\n",
              "    </tr>\n",
              "    <tr>\n",
              "      <th>90</th>\n",
              "      <td>52153</td>\n",
              "      <td>2592</td>\n",
              "      <td>2020-06-29</td>\n",
              "    </tr>\n",
              "    <tr>\n",
              "      <th>91</th>\n",
              "      <td>52340</td>\n",
              "      <td>2603</td>\n",
              "      <td>2020-06-30</td>\n",
              "    </tr>\n",
              "    <tr>\n",
              "      <th>92</th>\n",
              "      <td>52569</td>\n",
              "      <td>2611</td>\n",
              "      <td>2020-07-01</td>\n",
              "    </tr>\n",
              "    <tr>\n",
              "      <th>93</th>\n",
              "      <td>52813</td>\n",
              "      <td>2623</td>\n",
              "      <td>2020-07-02</td>\n",
              "    </tr>\n",
              "  </tbody>\n",
              "</table>\n",
              "<p>94 rows × 3 columns</p>\n",
              "</div>"
            ],
            "text/plain": [
              "    Cases  Deaths        Date\n",
              "0     598       4  2020-03-24\n",
              "1     949       5  2020-03-25\n",
              "2    1882      15  2020-03-28\n",
              "3    1975      15  2020-03-29\n",
              "4    2611      26  2020-03-31\n",
              "..    ...     ...         ...\n",
              "89  51512    2573  2020-06-28\n",
              "90  52153    2592  2020-06-29\n",
              "91  52340    2603  2020-06-30\n",
              "92  52569    2611  2020-07-01\n",
              "93  52813    2623  2020-07-02\n",
              "\n",
              "[94 rows x 3 columns]"
            ]
          },
          "metadata": {
            "tags": []
          },
          "execution_count": 10
        }
      ]
    }
  ]
}